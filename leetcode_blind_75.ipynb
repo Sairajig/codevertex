{
  "nbformat": 4,
  "nbformat_minor": 0,
  "metadata": {
    "colab": {
      "provenance": [],
      "authorship_tag": "ABX9TyPFxfX7DeBOIECka3FeBwNV",
      "include_colab_link": true
    },
    "kernelspec": {
      "name": "python3",
      "display_name": "Python 3"
    },
    "language_info": {
      "name": "python"
    }
  },
  "cells": [
    {
      "cell_type": "markdown",
      "metadata": {
        "id": "view-in-github",
        "colab_type": "text"
      },
      "source": [
        "<a href=\"https://colab.research.google.com/github/Sairajig/codevertex/blob/main/leetcode_blind_75.ipynb\" target=\"_parent\"><img src=\"https://colab.research.google.com/assets/colab-badge.svg\" alt=\"Open In Colab\"/></a>"
      ]
    },
    {
      "cell_type": "code",
      "execution_count": null,
      "metadata": {
        "colab": {
          "base_uri": "https://localhost:8080/"
        },
        "id": "0-wTcXpwAixn",
        "outputId": "143074db-dc50-4d0c-9f09-2cec58396ed8"
      },
      "outputs": [
        {
          "output_type": "stream",
          "name": "stdout",
          "text": [
            "[0, 1]\n"
          ]
        }
      ],
      "source": [
        "#two sum\n",
        "def twoSum(nums, target):\n",
        "    seen = {}\n",
        "    for i, num in enumerate(nums):\n",
        "        complement = target - num\n",
        "        if complement in seen:\n",
        "            return [seen[complement], i]\n",
        "        seen[num] = i\n",
        "    return []\n",
        "\n",
        "# Example test case\n",
        "nums = [2, 7, 11, 15]\n",
        "target = 9\n",
        "result = twoSum(nums, target)\n",
        "print(result)\n"
      ]
    },
    {
      "cell_type": "code",
      "source": [
        "#best time to buy and sell stock\n",
        "def maxProfit(prices):\n",
        "    buy, sell, max_profit = 0, 1, 0\n",
        "    while sell < len(prices):\n",
        "        if prices[buy] < prices[sell]:\n",
        "            profit = prices[sell] - prices[buy]\n",
        "            max_profit = max(max_profit, profit)\n",
        "        else:\n",
        "            buy = sell\n",
        "        sell += 1\n",
        "    return max_profit\n",
        "prices = [7, 1, 5, 3, 6, 4]\n",
        "print(maxProfit(prices))"
      ],
      "metadata": {
        "colab": {
          "base_uri": "https://localhost:8080/"
        },
        "id": "dOgI9ggfFCLt",
        "outputId": "d445a29b-bb8a-44e0-9006-339a77abd168"
      },
      "execution_count": null,
      "outputs": [
        {
          "output_type": "stream",
          "name": "stdout",
          "text": [
            "5\n"
          ]
        }
      ]
    },
    {
      "cell_type": "code",
      "source": [
        "#contains duplicate\n",
        "def containsDuplicate(nums):\n",
        "    '''seen = set()\n",
        "    for num in nums:\n",
        "        if num in seen:\n",
        "            return True\n",
        "        seen.add(num)\n",
        "    return False'''\n",
        "    return len(nums)!=len(set(nums))\n",
        "nums =[1,2,3,1]\n",
        "print(containsDuplicate(nums))"
      ],
      "metadata": {
        "colab": {
          "base_uri": "https://localhost:8080/"
        },
        "id": "UpbyNJ57Pptt",
        "outputId": "3000d102-3e49-4505-c3fb-deaaf2654c59"
      },
      "execution_count": 14,
      "outputs": [
        {
          "output_type": "stream",
          "name": "stdout",
          "text": [
            "True\n"
          ]
        }
      ]
    },
    {
      "cell_type": "code",
      "source": [
        "#prodcut of array except self\n",
        "\n",
        "def productExceptSelf( nums):\n",
        "        output = [1] * len(nums)\n",
        "        left = 1\n",
        "        for i in range(len(nums)):\n",
        "            output[i] *= left\n",
        "            left *= nums[i]\n",
        "        right = 1\n",
        "        for i in range(len(nums) - 1, -1, -1):\n",
        "            output[i] *= right\n",
        "            right *= nums[i]\n",
        "        return output\n",
        "nums =[1,2,3,4]\n",
        "print(productExceptSelf(nums))"
      ],
      "metadata": {
        "colab": {
          "base_uri": "https://localhost:8080/"
        },
        "id": "E8v3IiRnSAxW",
        "outputId": "465b69c7-8444-4b98-bfb4-11a1cbc6fc50"
      },
      "execution_count": 18,
      "outputs": [
        {
          "output_type": "stream",
          "name": "stdout",
          "text": [
            "[24, 12, 8, 6]\n"
          ]
        }
      ]
    },
    {
      "cell_type": "code",
      "source": [
        "#maximum subarray\n",
        "def maxSubArray(nums):\n",
        "    current_sum = 0\n",
        "    max_sum = float('-inf')\n",
        "    for i in nums:\n",
        "        current_sum +=i\n",
        "        max_sum = max(max_sum , current_sum)\n",
        "        if current_sum < 0:\n",
        "            current_sum = 0\n",
        "    return max_sum\n",
        "\n",
        "nums = [-2,1,-3.4,-1,2,1,-5,4]\n",
        "print(maxSubArray(nums))\n"
      ],
      "metadata": {
        "colab": {
          "base_uri": "https://localhost:8080/"
        },
        "id": "3AB_PNZFT3Wd",
        "outputId": "00919cc4-c3f1-4c52-8a3a-4c51b66eac72"
      },
      "execution_count": 19,
      "outputs": [
        {
          "output_type": "stream",
          "name": "stdout",
          "text": [
            "4\n"
          ]
        }
      ]
    },
    {
      "cell_type": "code",
      "source": [
        "#Maximum Product Subarray\n",
        "def maxProduct(nums):\n",
        "    res = max(nums)\n",
        "    curr_max = curr_min =1\n",
        "    for i in nums:\n",
        "        temp = curr_max*i\n",
        "        curr_max = max(temp,curr_min*i,i)\n",
        "        curr_min = min(temp,curr_min*i,i)\n",
        "        res = max(res,curr_max)\n",
        "    return res\n",
        "nums = [2,3,-2,4]\n",
        "print(maxProduct(nums))"
      ],
      "metadata": {
        "colab": {
          "base_uri": "https://localhost:8080/"
        },
        "id": "fp2A2Ux_UpmF",
        "outputId": "d4595bb9-7a42-46d5-c17c-1bffabc94160"
      },
      "execution_count": 23,
      "outputs": [
        {
          "output_type": "stream",
          "name": "stdout",
          "text": [
            "6\n"
          ]
        }
      ]
    },
    {
      "cell_type": "code",
      "source": [
        "#Find Minimum in Rotated Sorted Array\n",
        "def findMin(nums):\n",
        "    left , right = 0,len(nums)-1\n",
        "    while left < right:\n",
        "          mid =(left+right)//2\n",
        "          if nums[mid]<=nums[right]:\n",
        "             right = mid\n",
        "          else:\n",
        "             left = mid+1\n",
        "    return nums[left]\n",
        "\n",
        "nums =[3,4,5,1,2]\n",
        "print(findMin(nums))"
      ],
      "metadata": {
        "colab": {
          "base_uri": "https://localhost:8080/"
        },
        "id": "3LOU7TnvVu8i",
        "outputId": "e2e4e733-ee5b-40b5-f837-0fe422e159e3"
      },
      "execution_count": 24,
      "outputs": [
        {
          "output_type": "stream",
          "name": "stdout",
          "text": [
            "1\n"
          ]
        }
      ]
    },
    {
      "cell_type": "code",
      "source": [
        "#Search in Rotated Sorted Array\n",
        "def search(nums, target):\n",
        "    l = 0\n",
        "    r = len(nums) - 1\n",
        "\n",
        "    while l <= r:\n",
        "      m = (l + r) // 2\n",
        "      if nums[m] == target:\n",
        "        return m\n",
        "      if nums[l] <= nums[m]:\n",
        "        if nums[l] <= target < nums[m]:\n",
        "          r = m - 1\n",
        "        else:\n",
        "          l = m + 1\n",
        "      else:\n",
        "        if nums[m] < target <= nums[r]:\n",
        "          l = m + 1\n",
        "        else:\n",
        "          r = m - 1\n",
        "\n",
        "    return -1\n",
        "\n",
        "nums = [4,5,6,7,0,1,2]\n",
        "target = 0\n",
        "print(search(nums,target))"
      ],
      "metadata": {
        "colab": {
          "base_uri": "https://localhost:8080/"
        },
        "id": "ojeGS0ZIWid3",
        "outputId": "8037d439-2e0c-46f8-8718-391d11a36b81"
      },
      "execution_count": 27,
      "outputs": [
        {
          "output_type": "stream",
          "name": "stdout",
          "text": [
            "4\n"
          ]
        }
      ]
    },
    {
      "cell_type": "code",
      "source": [
        "#3sum\n",
        "\n",
        "def threeSum(nums):\n",
        "    res = []\n",
        "    nums.sort()\n",
        "    for i in range(len(nums)):\n",
        "        if i > 0 and nums[i] == nums[i-1]:\n",
        "            continue\n",
        "        j = i + 1\n",
        "        k = len(nums) - 1\n",
        "        while j < k:\n",
        "              total = nums[i] + nums[j] + nums[k]\n",
        "              if total > 0:\n",
        "                    k -= 1\n",
        "              elif total < 0:\n",
        "                    j += 1\n",
        "              else:\n",
        "                    res.append([nums[i], nums[j], nums[k]])\n",
        "                    j += 1\n",
        "\n",
        "              while nums[j] == nums[j-1] and j < k:\n",
        "                        j += 1\n",
        "\n",
        "    return res\n",
        "\n",
        "nums =[-1,0,1,2,-1,-4]\n",
        "print(threeSum(nums))"
      ],
      "metadata": {
        "colab": {
          "base_uri": "https://localhost:8080/"
        },
        "id": "F9fEqbojY2LZ",
        "outputId": "35c98b32-11cd-49ca-c281-6643ff7970d7"
      },
      "execution_count": 30,
      "outputs": [
        {
          "output_type": "stream",
          "name": "stdout",
          "text": [
            "[[-1, -1, 2], [-1, 0, 1]]\n"
          ]
        }
      ]
    },
    {
      "cell_type": "code",
      "source": [
        "#Container With Most Water\n",
        "class Solution:\n",
        "  def maxArea(height):\n",
        "    ans = 0\n",
        "    l = 0\n",
        "    r = len(height) - 1\n",
        "\n",
        "    while l < r:\n",
        "      minHeight = min(height[l], height[r])\n",
        "      ans = max(ans, minHeight * (r - l))\n",
        "      if height[l] < height[r]:\n",
        "        l += 1\n",
        "      else:\n",
        "        r -= 1\n",
        "\n",
        "    return ans\n",
        "\n",
        "height = [1,8,6,2,5,4,8,3,7]\n",
        "print(Solution.maxArea(height))"
      ],
      "metadata": {
        "colab": {
          "base_uri": "https://localhost:8080/"
        },
        "id": "7-X73XOOZjoz",
        "outputId": "9e194eaf-7179-4bbc-a3fc-635e3aa1f70f"
      },
      "execution_count": 31,
      "outputs": [
        {
          "output_type": "stream",
          "name": "stdout",
          "text": [
            "49\n"
          ]
        }
      ]
    },
    {
      "cell_type": "code",
      "source": [
        "#Sum of Two Integers\n",
        "def getSum(a, b):\n",
        "    mask = 0xFFFFFFFF\n",
        "    kMax = 2000\n",
        "    while b != 0:\n",
        "      a, b = (a ^ b) & mask, ((a & b) << 1) & mask\n",
        "    return a if a < kMax else ~(a ^ mask)\n",
        "a = 1\n",
        "b=2\n",
        "print(getSum(a,b))"
      ],
      "metadata": {
        "colab": {
          "base_uri": "https://localhost:8080/"
        },
        "id": "bdm-3zhZZ45o",
        "outputId": "cb016bc5-ef19-4bb1-8054-9e623405dc1f"
      },
      "execution_count": 34,
      "outputs": [
        {
          "output_type": "stream",
          "name": "stdout",
          "text": [
            "3\n"
          ]
        }
      ]
    },
    {
      "cell_type": "code",
      "source": [
        "#Number of 1 Bits\n",
        "def hammingWeight(n):\n",
        "  return n.bit_count()\n",
        "n = 11\n",
        "print(hammingWeight(n))"
      ],
      "metadata": {
        "colab": {
          "base_uri": "https://localhost:8080/"
        },
        "id": "dQQmLnTnakTO",
        "outputId": "01426aac-a1f8-4753-ab08-ca88beb353bf"
      },
      "execution_count": 35,
      "outputs": [
        {
          "output_type": "stream",
          "name": "stdout",
          "text": [
            "3\n"
          ]
        }
      ]
    },
    {
      "cell_type": "code",
      "source": [
        "#Counting Bits\n",
        "def countBit(n):\n",
        "    ans = [0]*(n+1)\n",
        "    for i in range(1, n+1):\n",
        "        ans[i]=ans[i//2]+(i&1)\n",
        "    return ans\n",
        "n = 2\n",
        "print(countBit(n))"
      ],
      "metadata": {
        "colab": {
          "base_uri": "https://localhost:8080/"
        },
        "id": "KbgoTmwBa086",
        "outputId": "901e86c2-c5fe-494c-9803-b13b63ee4b88"
      },
      "execution_count": 36,
      "outputs": [
        {
          "output_type": "stream",
          "name": "stdout",
          "text": [
            "[0, 1, 1]\n"
          ]
        }
      ]
    },
    {
      "cell_type": "code",
      "source": [
        "#Missing Number\n",
        "def missingNumber(nums):\n",
        "    ans = len(nums)\n",
        "    for i, num in enumerate(nums):\n",
        "        ans ^= i^num\n",
        "    return ans\n",
        "\n",
        "nums =[3,0,1]\n",
        "print(missingNumber(nums))"
      ],
      "metadata": {
        "colab": {
          "base_uri": "https://localhost:8080/"
        },
        "id": "IEVc8skSbM11",
        "outputId": "564e68c1-cb35-4152-8ded-b1a876798003"
      },
      "execution_count": 37,
      "outputs": [
        {
          "output_type": "stream",
          "name": "stdout",
          "text": [
            "2\n"
          ]
        }
      ]
    },
    {
      "cell_type": "code",
      "source": [
        "#Reverse Bits\n",
        "def reverseBits(n):\n",
        "    ans = 0\n",
        "    for i in range(32):\n",
        "        if n >>i &1:\n",
        "           ans |= 1<<31-i\n",
        "    return ans\n",
        "\n",
        "n = 11111111111111111111111111111101\n",
        "print(reverseBits(n))"
      ],
      "metadata": {
        "colab": {
          "base_uri": "https://localhost:8080/"
        },
        "id": "ny49Mc9ZblqL",
        "outputId": "f6f974cd-cccd-48a0-aa1c-915317ee3e67"
      },
      "execution_count": 39,
      "outputs": [
        {
          "output_type": "stream",
          "name": "stdout",
          "text": [
            "3180214499\n"
          ]
        }
      ]
    }
  ]
}